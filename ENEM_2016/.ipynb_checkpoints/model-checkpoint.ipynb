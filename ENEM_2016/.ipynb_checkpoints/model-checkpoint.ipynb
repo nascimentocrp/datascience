{
 "cells": [
  {
   "cell_type": "markdown",
   "metadata": {},
   "source": [
    "# Prevendo as notas de matemática do ENEM"
   ]
  },
  {
   "cell_type": "markdown",
   "metadata": {},
   "source": [
    "Criando um modelo de predição para as notas de matemática do ENEM 2016. \n",
    "\n",
    "Foi utilizado o random forest regressor da sklearn.\n",
    "\n",
    "Notebook criado com auxilio do post de Wesley Watanabe no Medium"
   ]
  },
  {
   "cell_type": "code",
   "execution_count": null,
   "metadata": {},
   "outputs": [],
   "source": [
    "import numpy as np\n",
    "import pandas as pd\n",
    "from sklearn import metrics\n",
    "import matplotlib.pyplot as plt\n",
    "import seaborn as sns"
   ]
  },
  {
   "cell_type": "code",
   "execution_count": null,
   "metadata": {},
   "outputs": [],
   "source": [
    "df_train = pd.read_csv('testfiles/train.csv', sep=\",\" , encoding=\"UTF8\" )\n",
    "df_test = pd.read_csv('testfiles/test.csv', sep=\",\" , encoding=\"UTF8\" )"
   ]
  },
  {
   "cell_type": "code",
   "execution_count": null,
   "metadata": {},
   "outputs": [],
   "source": [
    "df_test.columns"
   ]
  },
  {
   "cell_type": "code",
   "execution_count": null,
   "metadata": {},
   "outputs": [],
   "source": [
    "df_train.corr()"
   ]
  },
  {
   "cell_type": "code",
   "execution_count": null,
   "metadata": {},
   "outputs": [],
   "source": [
    "#Verificar como estao as distribuicoes\n",
    "\n",
    "features = [\n",
    "    'NU_NOTA_CN',\n",
    "    'NU_NOTA_CH',\n",
    "    'NU_NOTA_LC',\n",
    "    'NU_NOTA_REDACAO',\n",
    "    'NU_NOTA_COMP1',\n",
    "    'NU_NOTA_COMP2',\n",
    "    'NU_NOTA_COMP3',\n",
    "    'NU_NOTA_COMP4',\n",
    "    'NU_NOTA_COMP5']\n",
    "\n",
    "features_corr = [\n",
    "    'NU_NOTA_MT',\n",
    "    'NU_NOTA_CN',\n",
    "    'NU_NOTA_CH',\n",
    "    'NU_NOTA_LC',\n",
    "    'NU_NOTA_REDACAO',\n",
    "    'NU_NOTA_COMP1',\n",
    "    'NU_NOTA_COMP2',\n",
    "    'NU_NOTA_COMP3',\n",
    "    'NU_NOTA_COMP4',\n",
    "    'NU_NOTA_COMP5']\n",
    "\n",
    "\n",
    "#verificar nulos\n",
    "\n",
    "df_train[features].isnull().sum()\n"
   ]
  },
  {
   "cell_type": "code",
   "execution_count": null,
   "metadata": {},
   "outputs": [],
   "source": [
    "corr = df_train[features_corr].corr()\n",
    "\n",
    "x0 = df_train['NU_NOTA_CN'].fillna(0)\n",
    "x1 = df_test['NU_NOTA_CN'].fillna(0)"
   ]
  },
  {
   "cell_type": "code",
   "execution_count": null,
   "metadata": {},
   "outputs": [],
   "source": [
    "# seleciona valores nesses 4 quesitos a baixo na base de treino\n",
    "df_train = df_train.loc[\n",
    "      (df_train['NU_NOTA_CN'].notnull())  & (df_train['NU_NOTA_CN'] != 0) & (df_train['NU_NOTA_CH'].notnull())      & (df_train['NU_NOTA_CH'] != 0) \n",
    "    & (df_train['NU_NOTA_LC'].notnull())  & (df_train['NU_NOTA_LC'] != 0) & (df_train['NU_NOTA_REDACAO'].notnull()) & (df_train['NU_NOTA_REDACAO'] != 0)    \n",
    "]"
   ]
  },
  {
   "cell_type": "code",
   "execution_count": null,
   "metadata": {},
   "outputs": [],
   "source": [
    "#retirando nulos da base de teste\n",
    "\n",
    "df_test = df_test.loc[\n",
    "      (df_test['NU_NOTA_CN'].notnull())  & (df_test['NU_NOTA_CN'] != 0) & (df_test['NU_NOTA_CH'].notnull())      & (df_test['NU_NOTA_CH'] != 0) \n",
    "    & (df_test['NU_NOTA_LC'].notnull())  & (df_test['NU_NOTA_LC'] != 0) & (df_test['NU_NOTA_REDACAO'].notnull()) & (df_test['NU_NOTA_REDACAO'] != 0)    \n",
    "]"
   ]
  },
  {
   "cell_type": "code",
   "execution_count": null,
   "metadata": {},
   "outputs": [],
   "source": [
    "df_test[features].isnull().sum()"
   ]
  },
  {
   "cell_type": "code",
   "execution_count": null,
   "metadata": {},
   "outputs": [],
   "source": [
    "#zerando campos nulos da nota da redacao\n",
    "\n",
    "df_test['NU_NOTA_COMP1'].fillna(0,inplace=True)\n",
    "df_test['NU_NOTA_COMP2'].fillna(0,inplace=True)\n",
    "df_test['NU_NOTA_COMP3'].fillna(0,inplace=True)\n",
    "df_test['NU_NOTA_COMP4'].fillna(0,inplace=True)\n",
    "df_test['NU_NOTA_COMP5'].fillna(0,inplace=True)\n",
    "df_train['NU_NOTA_COMP1'].fillna(0,inplace=True)\n",
    "df_train['NU_NOTA_COMP2'].fillna(0,inplace=True)\n",
    "df_train['NU_NOTA_COMP3'].fillna(0,inplace=True)\n",
    "df_train['NU_NOTA_COMP4'].fillna(0,inplace=True)\n",
    "df_train['NU_NOTA_COMP5'].fillna(0,inplace=True)"
   ]
  },
  {
   "cell_type": "code",
   "execution_count": null,
   "metadata": {},
   "outputs": [],
   "source": [
    "y_train = df_train['NU_NOTA_MT']\n",
    "x_train = df_train[features]\n",
    "x_test = df_test[features]\n",
    "\n",
    "from sklearn.preprocessing import StandardScaler\n",
    "\n",
    "sc = StandardScaler()  \n",
    "x_train = sc.fit_transform(x_train)  \n",
    "x_test = sc.transform(x_test)"
   ]
  },
  {
   "cell_type": "code",
   "execution_count": null,
   "metadata": {},
   "outputs": [],
   "source": [
    "from sklearn.ensemble import RandomForestRegressor\n",
    "\n",
    "regressor = RandomForestRegressor( \n",
    "           criterion='mae', \n",
    "           max_depth=8,\n",
    "           max_leaf_nodes=None,\n",
    "           min_impurity_split=None,\n",
    "           min_samples_leaf=1,\n",
    "           min_samples_split=2,\n",
    "           min_weight_fraction_leaf=0.0,\n",
    "           n_estimators= 500,\n",
    "           n_jobs=-1,\n",
    "           random_state=0,\n",
    "           verbose=0,\n",
    "           warm_start=False\n",
    ")"
   ]
  },
  {
   "cell_type": "code",
   "execution_count": null,
   "metadata": {},
   "outputs": [],
   "source": [
    "regressor.fit(x_train, y_train)"
   ]
  },
  {
   "cell_type": "code",
   "execution_count": null,
   "metadata": {},
   "outputs": [],
   "source": [
    "#predicao das notas\n",
    "y_pred_test = regressor.predict(x_test)"
   ]
  },
  {
   "cell_type": "code",
   "execution_count": null,
   "metadata": {},
   "outputs": [],
   "source": [
    "#avaliando o modelo\n",
    "\n",
    "print('MAE:', metrics.mean_absolute_error(y_train, y_pred_train).round(8)  )\n",
    "print('MSE:', metrics.mean_squared_error(y_train, y_pred_train).round(8) )  \n",
    "print('RMSE:', np.sqrt(metrics.mean_squared_error(y_train, y_pred_train)).round(8))"
   ]
  },
  {
   "cell_type": "code",
   "execution_count": null,
   "metadata": {},
   "outputs": [],
   "source": [
    "y_pred_test.pd.to_csv('result.csv')"
   ]
  }
 ],
 "metadata": {
  "kernelspec": {
   "display_name": "Python 3",
   "language": "python",
   "name": "python3"
  },
  "language_info": {
   "codemirror_mode": {
    "name": "ipython",
    "version": 3
   },
   "file_extension": ".py",
   "mimetype": "text/x-python",
   "name": "python",
   "nbconvert_exporter": "python",
   "pygments_lexer": "ipython3",
   "version": "3.7.6"
  }
 },
 "nbformat": 4,
 "nbformat_minor": 4
}
